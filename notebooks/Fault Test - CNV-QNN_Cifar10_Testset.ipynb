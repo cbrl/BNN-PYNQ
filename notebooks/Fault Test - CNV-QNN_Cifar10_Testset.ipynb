{
 "cells": [
  {
   "cell_type": "markdown",
   "metadata": {},
   "source": [
    "# Fault Injection on Quantized Neural Networks\n",
    "\n",
    "This notebook tests fault injection on quantized neural networks.\n",
    "\n",
    "The different precision neural networks inspired at VGG-16 feature 6 convolutional layers, 3 max pool layers and 3 fully connected layers. The networks classify the CIFAR-10 testset. The 2 different precision networks tested here are:\n",
    "\n",
    "- CNVW1A1 using 1 bit weights and 1 bit activation,\n",
    "- CNVW2A2 using 2 bit weights and 2 bit activation"
   ]
  },
  {
   "cell_type": "markdown",
   "metadata": {},
   "source": [
    "## 1. Import the packages"
   ]
  },
  {
   "cell_type": "code",
   "execution_count": null,
   "metadata": {},
   "outputs": [],
   "source": [
    "import bnn\n",
    "import os\n",
    "from copy import deepcopy\n",
    "from json import dumps\n",
    "from yapf.yapflib.yapf_api import FormatCode\n",
    "import matplotlib.pyplot as plt\n",
    "from pynq import Xlnk"
   ]
  },
  {
   "cell_type": "markdown",
   "metadata": {},
   "source": []
  },
  {
   "cell_type": "markdown",
   "metadata": {},
   "source": [
    "## 2. The Cifar-10 testset\n",
    "\n",
    "This notebook required the testset from https://www.cs.toronto.edu/~kriz/cifar.html which contains 10000 images that can be processed by CNV network directly without preprocessing.\n",
    "\n",
    "You can download the cifar-10 set from given url via wget and unzip it to a folder on Pynq as shown below.\n",
    "This may take a while as the training set is included in the archive as well.\n",
    "After that we need to read the labels from the binary file to be able to compare the results later:"
   ]
  },
  {
   "cell_type": "code",
   "execution_count": null,
   "metadata": {},
   "outputs": [],
   "source": [
    "if not os.path.exists(\"/home/xilinx/jupyter_notebooks/bnn/cifar-10-binary.tar.gz\"):\n",
    "    #get\n",
    "    !wget https://www.cs.toronto.edu/~kriz/cifar-10-binary.tar.gz\n",
    "\n",
    "if not os.path.exists(\"/home/xilinx/jupyter_notebooks/bnn/cifar-10-batches-bin/\"):\n",
    "    #unzip\n",
    "    !tar -xf cifar-10-binary.tar.gz\n",
    "\n",
    "if not os.path.exists(\"/home/xilinx/jupyter_notebooks/bnn/cifar-10-batches-bin/test_batch_1000.bin\"):\n",
    "    with open(\"/home/xilinx/jupyter_notebooks/bnn/cifar-10-batches-bin/test_batch.bin\", \"rb\") as infile:\n",
    "        with open(\"/home/xilinx/jupyter_notebooks/bnn/cifar-10-batches-bin/test_batch_1000.bin\", \"wb+\") as outfile:\n",
    "            for i in range(1000):\n",
    "                outfile.write(infile.read(3073))\n",
    "\n",
    "labels = []\n",
    "input_file = \"/home/xilinx/jupyter_notebooks/bnn/cifar-10-batches-bin/test_batch_1000.bin\"\n",
    "with open(input_file, \"rb\") as file:\n",
    "    #for 10000 pictures\n",
    "    for i in range(1000):\n",
    "        #read first byte -> label\n",
    "        labels.append(int.from_bytes(file.read(1), byteorder=\"big\"))\n",
    "        #read image (3072 bytes) and do nothing with it\n",
    "        file.read(3072)\n",
    "    file.close()\n",
    "\n",
    "print(\"Read\", len(labels), \"labels\")"
   ]
  },
  {
   "cell_type": "markdown",
   "metadata": {},
   "source": [
    "## 3. Start inference\n",
    "\n",
    "The inference can be performed with different precision for weights and activation. Creating a specific Classifier will automatically download the correct bitstream onto PL and load the weights and thresholds trained on the specific dataset. "
   ]
  },
  {
   "cell_type": "code",
   "execution_count": null,
   "metadata": {},
   "outputs": [],
   "source": [
    "xlnk = Xlnk()\n",
    "\n",
    "num_runs = 100\n",
    "output_folder = \"/home/xilinx/jupyter_notebooks/bnn/{}flips/cnv/\""
   ]
  },
  {
   "cell_type": "markdown",
   "metadata": {},
   "source": []
  },
  {
   "cell_type": "markdown",
   "metadata": {},
   "source": [
    "### Utility Functions"
   ]
  },
  {
   "cell_type": "code",
   "execution_count": null,
   "metadata": {},
   "outputs": [],
   "source": [
    "def calculate_accuracy(results, labels):\n",
    "    countRight = 0\n",
    "    for idx in range(len(labels)):\n",
    "        if labels[idx] == results[idx]:\n",
    "            countRight += 1\n",
    "    return countRight*100/len(labels)\n",
    "\n",
    "\n",
    "#Merge dictionaries that contain sub-dictionaries\n",
    "def dict_of_dicts_merge(*dicts):\n",
    "    out = {}\n",
    "    for item in dicts:\n",
    "        overlapping_keys = out.keys() & item.keys()\n",
    "        for key in overlapping_keys:\n",
    "            if (isinstance(out[key], dict) and isinstance(item[key], dict)):\n",
    "                out[key] = dict_of_dicts_merge(out[key], item[key])\n",
    "        for key in item.keys() - overlapping_keys:\n",
    "            out[key] = deepcopy(item[key])\n",
    "    return out\n",
    "\n",
    "\n",
    "#Make a dictionary for storing the results, times, or accuracies from a test\n",
    "def make_results_dict(size, targeting_bits_and_words, targeting_weights_and_activations):\n",
    "    if targeting_bits_and_words and targeting_weights_and_activations:\n",
    "        return {\n",
    "            \"bit\": {\n",
    "                \"weight\": [ None for i in range(size) ],\n",
    "                \"activation\": [ None for i in range(size) ],\n",
    "            },\n",
    "            \"word\": {\n",
    "                \"weight\": [ None for i in range(size) ],\n",
    "                \"activation\": [ None for i in range(numsize_runs) ],\n",
    "            },\n",
    "        }\n",
    "    elif targeting_bits_and_words:\n",
    "        return {\n",
    "            \"bit\": [ None for i in range(size) ],\n",
    "            \"word\": [ None for i in range(size) ],\n",
    "        }\n",
    "    elif targeting_weights_and_activations:\n",
    "        return {\n",
    "            \"weight\": [ None for i in range(size) ],\n",
    "            \"activation\": [ None for i in range(numsize_runs) ],\n",
    "        }\n",
    "\n",
    "\n",
    "#Output dict contains the combined raw results from a test. Used as input to calculate_stats\n",
    "def make_output_dict(network_name, num_runs, num_flips, accuracy_control, accuracies_dict):\n",
    "    out = {}\n",
    "    out[\"network\"] = network_name\n",
    "    out[\"run count\"] = num_runs\n",
    "    out[\"flips\"] = num_flips\n",
    "    out[\"control\"] = accuracy_control\n",
    "    out[\"results\"] = {}\n",
    "    for key, val in accuracies_dict.items():\n",
    "        out[\"results\"][key] = val\n",
    "    return out\n",
    "\n",
    "\n",
    "#Calculates various stats given the results of a test (formatted with make_output_dict)\n",
    "def calculate_stats(output_dict):\n",
    "    out = output_dict.copy()\n",
    "    for key, value in output_dict[\"results\"].items():\n",
    "        out[\"results\"][key] = {}\n",
    "        out[\"results\"][key][\"runs\"] = {}\n",
    "        out[\"results\"][key][\"runs\"][\"all\"] = value\n",
    "        out[\"results\"][key][\"runs\"][\"effective\"] = list(filter(lambda x: x != out[\"control\"], value))\n",
    "        out[\"results\"][key][\"effective count\"] = len(out[\"results\"][key][\"runs\"][\"effective\"])\n",
    "        if out[\"results\"][key][\"effective count\"] != 0:\n",
    "            out[\"results\"][key][\"avg accuracy\"] = sum(value) / len(value)\n",
    "            out[\"results\"][key][\"avg effective accuracy\"] = sum(out[\"results\"][key][\"runs\"][\"effective\"]) / out[\"results\"][key][\"effective count\"]\n",
    "            out[\"results\"][key][\"effective accuracy delta\"] = out[\"control\"] - out[\"results\"][key][\"avg effective accuracy\"]\n",
    "        out[\"results\"][key][\"min accuracy\"] = min(value)\n",
    "        out[\"results\"][key][\"max accuracy\"] = max(value)\n",
    "    return out\n",
    "\n",
    "\n",
    "def dict_to_str(dict):\n",
    "    dict_string = dumps(dict)\n",
    "    formatted_code, _ = FormatCode(dict_string)\n",
    "    return formatted_code\n",
    "\n",
    "\n",
    "def write_stats_file(file_name, stats_dict):\n",
    "    os.makedirs(os.path.dirname(file_name), exist_ok=True)\n",
    "    f = open(file_name, \"w+\")\n",
    "    f.write(dict_to_str(stats_dict))\n",
    "    f.close()"
   ]
  },
  {
   "cell_type": "markdown",
   "metadata": {},
   "source": [
    "### Fault Test Function"
   ]
  },
  {
   "cell_type": "code",
   "execution_count": null,
   "metadata": {},
   "outputs": [],
   "source": [
    "def cnv_cifar_fault_test(title, network, input_file, num_runs, num_flips, flip_word, weight_or_activation, target_layers = []):\n",
    "    results    = [ None for i in range(num_runs) ]\n",
    "    times      = [ None for i in range(num_runs) ]\n",
    "    accuracies = [ None for i in range(num_runs) ]\n",
    "\n",
    "    for i in range(num_runs):\n",
    "        hw_classifier = bnn.CnvClassifier(network, 'cifar10', bnn.RUNTIME_HW)\n",
    "        print(\"{} run {} of {} (flipping {} {}(s) at random times)\".format(title, i+1, num_runs, num_flips, \"word\" if flip_word else \"bit\"))\n",
    "\n",
    "        results[i]    = hw_classifier.classify_cifars_with_faults(input_file, num_flips, flip_word, weight_or_activation, target_layers)\n",
    "        times[i]      = hw_classifier.usecPerImage\n",
    "        accuracies[i] = calculate_accuracy(results[i], labels)\n",
    "\n",
    "        print(\"Accuracy:\", accuracies[i])\n",
    "\n",
    "        xlnk.xlnk_reset()\n",
    "        print()\n",
    "    \n",
    "    return (results, times, accuracies)"
   ]
  },
  {
   "cell_type": "markdown",
   "metadata": {},
   "source": []
  },
  {
   "cell_type": "markdown",
   "metadata": {},
   "source": [
    "### W1A1 - 1 bit weight and 1 activation\n",
    "Run the control test for cnvW1A1"
   ]
  },
  {
   "cell_type": "code",
   "execution_count": null,
   "metadata": {},
   "outputs": [],
   "source": [
    "#Control run\n",
    "accuracy_W1A1_control = 0\n",
    "result_W1A1_control = None\n",
    "time_W1A1_control = 0\n",
    "\n",
    "#Control test\n",
    "hw_classifier = bnn.CnvClassifier(bnn.NETWORK_CNVW1A1, 'cifar10', bnn.RUNTIME_HW)\n",
    "\n",
    "print(\"Control classification\")\n",
    "result_W1A1_control   = hw_classifier.classify_cifars(input_file)\n",
    "time_W1A1_control     = hw_classifier.usecPerImage\n",
    "accuracy_W1A1_control = calculate_accuracy(result_W1A1_control, labels)\n",
    "print(\"Accuracy:\", accuracy_W1A1_control)\n",
    "\n",
    "#Reset the device\n",
    "xlnk.xlnk_reset()\n",
    "print()"
   ]
  },
  {
   "cell_type": "markdown",
   "metadata": {},
   "source": [
    "### W1A1 Test Function\n",
    "For each combination of weight/activation and SEU/MBU, the test will be repeated __num_runs__ times and __num_flips__ faults will be injected. The results will be written to files located in __output_folder__."
   ]
  },
  {
   "cell_type": "code",
   "execution_count": null,
   "metadata": {},
   "outputs": [],
   "source": [
    "def test_W1A1(num_runs, num_flips, output_folder):\n",
    "    #Separate output dicts for each run. They will be combined later for the\n",
    "    #final results, and the redundant data will be discarded.\n",
    "    weight_bit_output = {}\n",
    "    activation_bit_output = {}\n",
    "    weight_word_output = {}\n",
    "    activation_word_output = {}\n",
    "    stats = {}\n",
    "    \n",
    "    \n",
    "    #Test bit flips (weight)\n",
    "    weight_bit_data   = cnv_cifar_fault_test(\"Weight Bit\", bnn.NETWORK_CNVW1A1, input_file, num_runs, num_flips, False, 0)\n",
    "    weight_bit_output = make_output_dict(\"cnvW1A1\", num_runs, num_flips, accuracy_W1A1_control, {\"weight bit\": weight_bit_data[2]})\n",
    "\n",
    "    write_stats_file(output_folder.format(num_flips) + \"temp/cnvW1A1_results_bit_weight.json\", weight_bit_output)\n",
    "\n",
    "\n",
    "    #Test bit flips (activation)\n",
    "    activation_bit_data   = cnv_cifar_fault_test(\"Activation Bit\", bnn.NETWORK_CNVW1A1, input_file, num_runs, num_flips, False, 1)\n",
    "    activation_bit_output = make_output_dict(\"cnvW1A1\", num_runs, num_flips, accuracy_W1A1_control, {\"activation bit\": activation_bit_data[2]})\n",
    "\n",
    "    write_stats_file(output_folder.format(num_flips) + \"temp/cnvW1A1_results_bit_activation.json\", activation_bit_output)\n",
    "\n",
    "\n",
    "    #Test word flips (weight)\n",
    "    weight_word_data   = cnv_cifar_fault_test(\"Weight Word\", bnn.NETWORK_CNVW1A1, input_file, num_runs, num_flips, True, 0)\n",
    "    weight_word_output = make_output_dict(\"cnvW1A1\", num_runs, num_flips, accuracy_W1A1_control, {\"weight word\": weight_word_data[2]})\n",
    "\n",
    "    write_stats_file(output_folder.format(num_flips) + \"temp/cnvW1A1_results_word_weight.json\", weight_word_output)\n",
    "\n",
    "\n",
    "    #Test word flips (activation)\n",
    "    activation_word_data   = cnv_cifar_fault_test(\"Activation Word\", bnn.NETWORK_CNVW1A1, input_file, num_runs, num_flips, True, 1)\n",
    "    activation_word_output = make_output_dict(\"cnvW1A1\", num_runs, num_flips, accuracy_W1A1_control, {\"activation word\": activation_word_data[2]})\n",
    "\n",
    "    write_stats_file(output_folder.format(num_flips) + \"temp/cnvW1A1_results_word_activation.json\", activation_word_output)\n",
    "\n",
    "    \n",
    "    #Write all stats to file\n",
    "    stats = dict_of_dicts_merge(weight_bit_output, activation_bit_output, weight_word_output, activation_word_output)\n",
    "    stats = calculate_stats(stats)\n",
    "    write_stats_file(output_folder.format(num_flips) + \"cnvW1A1_stats.json\", stats)"
   ]
  },
  {
   "cell_type": "code",
   "execution_count": null,
   "metadata": {},
   "outputs": [],
   "source": [
    "def test_W1A1_layers(num_runs, num_flips, target_layers, output_folder):\n",
    "    bit_output = {}\n",
    "    word_output = {}\n",
    "    stats = {}\n",
    "\n",
    "    #Test bit flips\n",
    "    bit_test_results = cnv_cifar_fault_test(\"Bit{}\".format(target_layers), bnn.NETWORK_CNVW1A1, input_file, num_runs, num_flips, False, -1, target_layers)\n",
    "    bit_output       = make_output_dict(\"cnvW1A1\", num_runs, num_flips, accuracy_W1A1_control, {\"bit\": bit_test_results[2]})\n",
    "\n",
    "    #Test word flips\n",
    "    word_test_results = cnv_cifar_fault_test(\"Word{}\".format(target_layers), bnn.NETWORK_CNVW1A1, input_file, num_runs, num_flips, True, -1, target_layers)\n",
    "    word_output       = make_output_dict(\"cnvW1A1\", num_runs, num_flips, accuracy_W1A1_control, {\"word\": word_test_results[2]})\n",
    "    \n",
    "    #Write all stats to file\n",
    "    stats = dict_of_dicts_merge(bit_output, word_output)\n",
    "    stats = calculate_stats(stats)\n",
    "    write_stats_file(output_folder.format(num_flips) + \"layers/cnvW1A1_stats_layer{}.json\".format(target_layers), stats)"
   ]
  },
  {
   "cell_type": "markdown",
   "metadata": {},
   "source": []
  },
  {
   "cell_type": "markdown",
   "metadata": {},
   "source": [
    "### W2A2 - 2 bit weight and 2 activation\n",
    "Run the control test for cnvW2A2"
   ]
  },
  {
   "cell_type": "code",
   "execution_count": null,
   "metadata": {},
   "outputs": [],
   "source": [
    "#Control run\n",
    "accuracy_W2A2_control = 0\n",
    "result_W2A2_control = None\n",
    "time_W2A2_control = 0\n",
    "\n",
    "#Control test\n",
    "hw_classifier = bnn.CnvClassifier(bnn.NETWORK_CNVW2A2,'cifar10',bnn.RUNTIME_HW)\n",
    "print(\"Control classification\")\n",
    "result_W2A2_control = hw_classifier.classify_cifars(input_file)\n",
    "time_W2A2_control = hw_classifier.usecPerImage\n",
    "accuracy_W2A2_control = calculate_accuracy(result_W2A2_control, labels)\n",
    "print(\"Accuracy:\", accuracy_W2A2_control)\n",
    "\n",
    "#Reset the device\n",
    "xlnk.xlnk_reset()\n",
    "print()"
   ]
  },
  {
   "cell_type": "markdown",
   "metadata": {},
   "source": [
    "### W2A2 Test Functions\n",
    "For each combination of weight/activation and SEU/MBU, the test will be repeated __num_runs__ times and __num_flips__ faults will be injected. The results will be written to files located in __output_folder__."
   ]
  },
  {
   "cell_type": "code",
   "execution_count": null,
   "metadata": {},
   "outputs": [],
   "source": [
    "def test_W2A2(num_runs, num_flips, output_folder):\n",
    "    weight_bit_output = {}\n",
    "    activation_bit_output = {}\n",
    "    weight_word_output = {}\n",
    "    activation_word_output = {}\n",
    "    stats = {}\n",
    "\n",
    "    #Test bit flips (weight)\n",
    "    weight_bit_data   = cnv_cifar_fault_test(\"Weight Bit\", bnn.NETWORK_CNVW2A2, input_file, num_runs, num_flips, False, 0)\n",
    "    weight_bit_output = make_output_dict(\"cnvW2A2\", num_runs, num_flips, accuracy_W2A2_control, {\"weight bit\": weight_bit_data[2]})\n",
    "\n",
    "    write_stats_file(output_folder.format(num_flips) + \"temp/cnvW2A2_results_bit_weight.json\", weight_bit_output)\n",
    "\n",
    "\n",
    "    #Test bit flips (activation)\n",
    "    activation_bit_data   = cnv_cifar_fault_test(\"Activation Bit\", bnn.NETWORK_CNVW2A2, input_file, num_runs, num_flips, False, 1)\n",
    "    activation_bit_output = make_output_dict(\"cnvW2A2\", num_runs, num_flips, accuracy_W2A2_control, {\"activation bit\": activation_bit_data[2]})\n",
    "\n",
    "    write_stats_file(output_folder.format(num_flips) + \"temp/cnvW2A2_results_bit_activation.json\", activation_bit_output)\n",
    "\n",
    "\n",
    "    #Test word flips (weight)\n",
    "    weight_word_data   = cnv_cifar_fault_test(\"Weight Word\", bnn.NETWORK_CNVW2A2, input_file, num_runs, num_flips, True, 0)\n",
    "    weight_word_output = make_output_dict(\"cnvW2A2\", num_runs, num_flips, accuracy_W2A2_control, {\"weight word\": weight_word_data[2]})\n",
    "\n",
    "    write_stats_file(output_folder.format(num_flips) + \"temp/cnvW2A2_results_word_weight.json\", weight_word_output)\n",
    "\n",
    "\n",
    "    #Test word flips (activation)\n",
    "    activation_word_data   = cnv_cifar_fault_test(\"Activation Word\", bnn.NETWORK_CNVW2A2, input_file, num_runs, num_flips, True, 1)\n",
    "    activation_word_output = make_output_dict(\"cnvW2A2\", num_runs, num_flips, accuracy_W2A2_control, {\"activation word\": activation_word_data[2]})\n",
    "\n",
    "    write_stats_file(output_folder.format(num_flips) + \"temp/cnvW2A2_results_word_activation.json\", activation_word_output)\n",
    "\n",
    "    \n",
    "    #Write all stats to file\n",
    "    stats = dict_of_dicts_merge(weight_bit_output, activation_bit_output, weight_word_output, activation_word_output)\n",
    "    stats = calculate_stats(stats)\n",
    "    write_stats_file(output_folder.format(num_flips) + \"cnvW2A2_stats.json\", stats)"
   ]
  },
  {
   "cell_type": "code",
   "execution_count": null,
   "metadata": {},
   "outputs": [],
   "source": [
    "def test_W2A2_layers(num_runs, num_flips, target_layers, output_folder):\n",
    "    bit_output = {}\n",
    "    word_output = {}\n",
    "    stats = {}\n",
    "\n",
    "    #Test bit flips\n",
    "    bit_test_results = cnv_cifar_fault_test(\"Bit{}\".format(target_layers), bnn.NETWORK_CNVW2A2, input_file, num_runs, num_flips, False, -1, target_layers)\n",
    "    bit_output       = make_output_dict(\"cnvW2A2\", num_runs, num_flips, accuracy_W2A2_control, {\"bit\": bit_test_results[2]})\n",
    "\n",
    "    #Test word flips\n",
    "    word_test_results = cnv_cifar_fault_test(\"Word{}\".format(target_layers), bnn.NETWORK_CNVW2A2, input_file, num_runs, num_flips, True, -1, target_layers)\n",
    "    word_output       = make_output_dict(\"cnvW2A2\", num_runs, num_flips, accuracy_W2A2_control, {\"word\": word_test_results[2]})\n",
    "    \n",
    "    #Write all stats to file\n",
    "    stats = dict_of_dicts_merge(bit_output, word_output)\n",
    "    stats = calculate_stats(stats)\n",
    "    write_stats_file(output_folder.format(num_flips) + \"layers/cnvW2A2_stats_layer{}.json\".format(target_layers), stats)"
   ]
  },
  {
   "cell_type": "markdown",
   "metadata": {},
   "source": []
  },
  {
   "cell_type": "markdown",
   "metadata": {},
   "source": [
    "## 4. Run the tests"
   ]
  },
  {
   "cell_type": "code",
   "execution_count": null,
   "metadata": {},
   "outputs": [],
   "source": [
    "test_W1A1(1, 1, output_folder)\n",
    "test_W2A2(1, 1, output_folder)\n",
    "\n",
    "test_W1A1(num_runs, 2, output_folder)\n",
    "test_W2A2(num_runs, 2, output_folder)\n",
    "\n",
    "test_W1A1(num_runs, 5, output_folder)\n",
    "test_W2A2(num_runs, 5, output_folder)\n",
    "\n",
    "test_W1A1(num_runs, 10, output_folder)\n",
    "test_W2A2(num_runs, 10, output_folder)\n",
    "\n",
    "test_W1A1(num_runs, 20, output_folder)\n",
    "test_W2A2(num_runs, 20, output_folder)\n",
    "\n",
    "test_W1A1(num_runs, 50, output_folder)\n",
    "test_W2A2(num_runs, 50, output_folder)\n",
    "\n",
    "test_W1A1(num_runs, 100, output_folder)\n",
    "test_W2A2(num_runs, 100, output_folder)\n",
    "\n",
    "for i in range(9):\n",
    "    test_W1A1_layers(1, 5, [i], output_folder)\n",
    "    test_W2A2_layers(1, 5, [i], output_folder)\n",
    "\n",
    "    test_W1A1_layers(num_runs, 10, [i], output_folder)\n",
    "    test_W2A2_layers(num_runs, 10, [i], output_folder)\n",
    "\n",
    "    test_W1A1_layers(num_runs, 50, [i], output_folder)\n",
    "    test_W2A2_layers(num_runs, 50, [i], output_folder)\n",
    "\n",
    "    test_W1A1_layers(num_runs, 100, [i], output_folder)\n",
    "    test_W2A2_layers(num_runs, 100, [i], output_folder)"
   ]
  },
  {
   "cell_type": "code",
   "execution_count": null,
   "metadata": {},
   "outputs": [],
   "source": []
  }
 ],
 "metadata": {
  "file_extension": ".py",
  "kernelspec": {
   "display_name": "Python 3",
   "language": "python",
   "name": "python3"
  },
  "language_info": {
   "codemirror_mode": {
    "name": "ipython",
    "version": 3
   },
   "file_extension": ".py",
   "mimetype": "text/x-python",
   "name": "python",
   "nbconvert_exporter": "python",
   "pygments_lexer": "ipython3",
   "version": "3.6.5"
  },
  "mimetype": "text/x-python",
  "name": "python",
  "npconvert_exporter": "python",
  "pygments_lexer": "ipython3",
  "version": 3
 },
 "nbformat": 4,
 "nbformat_minor": 2
}