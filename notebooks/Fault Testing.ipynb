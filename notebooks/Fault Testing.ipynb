{
 "cells": [
  {
   "cell_type": "markdown",
   "metadata": {},
   "source": [
    "# Fault Injection on Quantized Neural Networks\n",
    "\n",
    "This notebook tests fault injection on quantized neural networks (QNNs). It is recommended to first read through and understand some of the example notebooks that demonstrate image classification with BNN-PYNQ."
   ]
  },
  {
   "cell_type": "markdown",
   "metadata": {},
   "source": [
    "## 1. Import the packages"
   ]
  },
  {
   "cell_type": "code",
   "execution_count": 1,
   "metadata": {},
   "outputs": [
    {
     "data": {
      "application/javascript": [
       "\n",
       "require(['notebook/js/codecell'], function(codecell) {\n",
       "  codecell.CodeCell.options_default.highlight_modes[\n",
       "      'magic_text/x-csrc'] = {'reg':[/^%%microblaze/]};\n",
       "  Jupyter.notebook.events.one('kernel_ready.Kernel', function(){\n",
       "      Jupyter.notebook.get_cells().map(function(cell){\n",
       "          if (cell.cell_type == 'code'){ cell.auto_highlight(); } }) ;\n",
       "  });\n",
       "});\n"
      ]
     },
     "metadata": {},
     "output_type": "display_data"
    }
   ],
   "source": [
    "import bnn\n",
    "import os"
   ]
  },
  {
   "cell_type": "markdown",
   "metadata": {},
   "source": []
  },
  {
   "cell_type": "markdown",
   "metadata": {},
   "source": [
    "## 2. Load the required datasets\n",
    "\n",
    "This notebook utilizes the CIFAR-10, GTSRB, SVHN, and MNIST datasets. You can download them from each given url via wget and unzip it to a folder on Pynq as shown below."
   ]
  },
  {
   "cell_type": "markdown",
   "metadata": {},
   "source": [
    "#### CIFAR-10"
   ]
  },
  {
   "cell_type": "code",
   "execution_count": 2,
   "metadata": {},
   "outputs": [],
   "source": [
    "if not os.path.exists(\"/home/xilinx/jupyter_notebooks/bnn/cifar-10-binary.tar.gz\"):\n",
    "    !wget https://www.cs.toronto.edu/~kriz/cifar-10-binary.tar.gz\n",
    "\n",
    "if not os.path.exists(\"/home/xilinx/jupyter_notebooks/bnn/cifar-10-batches-bin/\"):\n",
    "    !tar -xf cifar-10-binary.tar.gz\n",
    "\n",
    "cifar_files, cifar_labels = bnn.util.load_cifar10_testset(\"/home/xilinx/jupyter_notebooks/bnn/cifar-10-batches-bin/\", 1000)"
   ]
  },
  {
   "cell_type": "markdown",
   "metadata": {},
   "source": [
    "#### GTSRB"
   ]
  },
  {
   "cell_type": "code",
   "execution_count": 3,
   "metadata": {},
   "outputs": [
    {
     "name": "stdout",
     "output_type": "stream",
     "text": [
      "--2020-09-19 20:18:00--  https://sid.erda.dk/public/archives/daaeac0d7ce1152aea9b61d9f1e19370/GTSRB_Final_Test_Images.zip\n",
      "Resolving sid.erda.dk (sid.erda.dk)... 130.225.104.13\n",
      "Connecting to sid.erda.dk (sid.erda.dk)|130.225.104.13|:443... connected.\n",
      "HTTP request sent, awaiting response... 200 OK\n",
      "Length: 88978620 (85M) [application/zip]\n",
      "Saving to: ‘GTSRB_Final_Test_Images.zip’\n",
      "\n",
      "GTSRB_Final_Test_Im 100%[===================>]  84.86M  4.22MB/s    in 16s     \n",
      "\n",
      "2020-09-19 20:18:19 (5.22 MB/s) - ‘GTSRB_Final_Test_Images.zip’ saved [88978620/88978620]\n",
      "\n",
      "--2020-09-19 20:18:36--  https://sid.erda.dk/public/archives/daaeac0d7ce1152aea9b61d9f1e19370/GTSRB_Final_Test_GT.zip\n",
      "Resolving sid.erda.dk (sid.erda.dk)... 130.225.104.13\n",
      "Connecting to sid.erda.dk (sid.erda.dk)|130.225.104.13|:443... connected.\n",
      "HTTP request sent, awaiting response... 200 OK\n",
      "Length: 99620 (97K) [application/zip]\n",
      "Saving to: ‘GTSRB_Final_Test_GT.zip’\n",
      "\n",
      "GTSRB_Final_Test_GT 100%[===================>]  97.29K   336KB/s    in 0.3s    \n",
      "\n",
      "2020-09-19 20:18:37 (336 KB/s) - ‘GTSRB_Final_Test_GT.zip’ saved [99620/99620]\n",
      "\n"
     ]
    }
   ],
   "source": [
    "if not os.path.exists(\"/home/xilinx/jupyter_notebooks/bnn/GTSRB_Final_Test_Images.zip\"):\n",
    "    !wget https://sid.erda.dk/public/archives/daaeac0d7ce1152aea9b61d9f1e19370/GTSRB_Final_Test_Images.zip\n",
    "\n",
    "if not os.path.exists(\"/home/xilinx/jupyter_notebooks/bnn/GTSRB_Final_Test_GT.zip\"):\n",
    "    !wget https://sid.erda.dk/public/archives/daaeac0d7ce1152aea9b61d9f1e19370/GTSRB_Final_Test_GT.zip\n",
    "\n",
    "if not os.path.exists(\"/home/xilinx/jupyter_notebooks/bnn/GTSRB\"):\n",
    "    !unzip -q -o GTSRB_Final_Test_Images.zip\n",
    "    !unzip -q -o GTSRB_Final_Test_GT.zip\n",
    "    !mv GT-final_test.csv GTSRB/Final_Test/\n",
    "\n",
    "gtsrb_files, gtsrb_labels = bnn.util.load_gtsrb_testset(\n",
    "    \"/home/xilinx/jupyter_notebooks/bnn/GTSRB/Final_Test/GT-final_test.csv\",\n",
    "    \"/home/xilinx/jupyter_notebooks/bnn/GTSRB/Final_Test/Images\",\n",
    "    1000\n",
    ")"
   ]
  },
  {
   "cell_type": "markdown",
   "metadata": {},
   "source": [
    "#### SVHN"
   ]
  },
  {
   "cell_type": "code",
   "execution_count": 4,
   "metadata": {},
   "outputs": [
    {
     "name": "stdout",
     "output_type": "stream",
     "text": [
      "--2020-09-19 20:19:08--  http://ufldl.stanford.edu/housenumbers/test_32x32.mat\n",
      "Resolving ufldl.stanford.edu (ufldl.stanford.edu)... 171.64.68.10\n",
      "Connecting to ufldl.stanford.edu (ufldl.stanford.edu)|171.64.68.10|:80... connected.\n",
      "HTTP request sent, awaiting response... 200 OK\n",
      "Length: 64275384 (61M) [text/plain]\n",
      "Saving to: ‘test_32x32.mat’\n",
      "\n",
      "test_32x32.mat      100%[===================>]  61.30M  10.9MB/s    in 9.3s    \n",
      "\n",
      "2020-09-19 20:19:18 (6.62 MB/s) - ‘test_32x32.mat’ saved [64275384/64275384]\n",
      "\n"
     ]
    }
   ],
   "source": [
    "if not os.path.exists(\"/home/xilinx/jupyter_notebooks/bnn/test_32x32.mat\"):\n",
    "    !wget http://ufldl.stanford.edu/housenumbers/test_32x32.mat\n",
    "\n",
    "svhn_files, svhn_labels = bnn.util.load_svhn_testset(\"/home/xilinx/jupyter_notebooks/bnn/test_32x32.mat\", 1000)"
   ]
  },
  {
   "cell_type": "markdown",
   "metadata": {},
   "source": [
    "#### MNIST"
   ]
  },
  {
   "cell_type": "code",
   "execution_count": 5,
   "metadata": {},
   "outputs": [
    {
     "name": "stdout",
     "output_type": "stream",
     "text": [
      "--2020-09-19 20:19:47--  http://yann.lecun.com/exdb/mnist/t10k-images-idx3-ubyte.gz\n",
      "Resolving yann.lecun.com (yann.lecun.com)... 2606:4700:3036::ac43:ab4c, 2606:4700:3031::681c:6cc, 2606:4700:3033::681c:7cc, ...\n",
      "Connecting to yann.lecun.com (yann.lecun.com)|2606:4700:3036::ac43:ab4c|:80... connected.\n",
      "HTTP request sent, awaiting response... 200 OK\n",
      "Length: 1648877 (1.6M) [application/x-gzip]\n",
      "Saving to: ‘t10k-images-idx3-ubyte.gz’\n",
      "\n",
      "t10k-images-idx3-ub 100%[===================>]   1.57M  7.03MB/s    in 0.2s    \n",
      "\n",
      "2020-09-19 20:19:47 (7.03 MB/s) - ‘t10k-images-idx3-ubyte.gz’ saved [1648877/1648877]\n",
      "\n",
      "--2020-09-19 20:19:47--  http://yann.lecun.com/exdb/mnist/t10k-labels-idx1-ubyte.gz\n",
      "Resolving yann.lecun.com (yann.lecun.com)... 2606:4700:3033::681c:7cc, 2606:4700:3031::681c:6cc, 2606:4700:3036::ac43:ab4c, ...\n",
      "Connecting to yann.lecun.com (yann.lecun.com)|2606:4700:3033::681c:7cc|:80... connected.\n",
      "HTTP request sent, awaiting response... 200 OK\n",
      "Length: 4542 (4.4K) [application/x-gzip]\n",
      "Saving to: ‘t10k-labels-idx1-ubyte.gz’\n",
      "\n",
      "t10k-labels-idx1-ub 100%[===================>]   4.44K  --.-KB/s    in 0s      \n",
      "\n",
      "2020-09-19 20:19:47 (49.4 MB/s) - ‘t10k-labels-idx1-ubyte.gz’ saved [4542/4542]\n",
      "\n"
     ]
    }
   ],
   "source": [
    "if not os.path.exists(\"/home/xilinx/jupyter_notebooks/bnn/t10k-images-idx3-ubyte.gz\"):\n",
    "    !wget http://yann.lecun.com/exdb/mnist/t10k-images-idx3-ubyte.gz \n",
    "    !wget http://yann.lecun.com/exdb/mnist/t10k-labels-idx1-ubyte.gz \n",
    "        \n",
    "if not os.path.exists(\"/home/xilinx/jupyter_notebooks/bnn/t10k-images-idx3-ubyte\"):\n",
    "    !gzip -d t10k-images-idx3-ubyte.gz\n",
    "    !gzip -d t10k-labels-idx1-ubyte.gz\n",
    "\n",
    "mnist_files, mnist_labels = bnn.util.load_mnist_testset(\"/home/xilinx/jupyter_notebooks/bnn/\")"
   ]
  },
  {
   "cell_type": "markdown",
   "metadata": {},
   "source": [
    "&nbsp;\n",
    "## 3. A Simple Fault Test Example\n",
    "This example demonstrates the most basic method of running a fault test, and demonstrates the use of all of the classification function arguments. The classes beyond this section expand on this concept and allow the user to more easily set up customizeable and comprehensive tests.\n",
    "\n",
    "The test is performed in a way very simlar to how a normal image classification is performed. The main difference is that `classifier.classify_cifars_with_faults()` is called instead of `classifier.classify_cifars()`. This function takes additional arguments that specify the type, location, and number of faults.\n",
    "\n",
    "For the CnvClassifier, non-CIFAR10 datasets (e.g. GTSRB and SVHN) will need to be converted to CIFAR-10 format before being classified. This will be automatically handled by using the `classifier.classify_images()` function instead of `classifier.classify_cifars()`. This function takes a list of Pillow Images and converts them to the required format before classifying. For fault injection with these datasets, use `classifier.classify_images_with_faults()`.\n",
    "\n",
    "The inference can be performed with different precision for weights and activation. Creating a specific Classifier will automatically download the correct bitstream onto PL and load the weights and thresholds trained on the specific dataset."
   ]
  },
  {
   "cell_type": "raw",
   "metadata": {},
   "source": [
    "# print(\"Availabe params:\", bnn.available_params(bnn.NETWORK_CNVW1A1_RESILIENT_INTERLEAVED))\n",
    "\n",
    "# Instantiate the cnvW1A1 hardware classifier with the CIFAR10 dataset\n",
    "classifier = bnn.CnvClassifier(bnn.NETWORK_CNVW1A1_RESILIENT_INTERLEAVED, 'cifar10', bnn.RUNTIME_HW)\n",
    "\n",
    "# Classify the dataset, and inject 10000 MBUs, targeting both weights and thresholds in the first 3 layers.\n",
    "#\n",
    "# The default value of target_layers is an empty list, which will target all layers.\n",
    "#\n",
    "# target_type determines if weights or thresholds will be targeted. A value of -1 causes both to be targeted, a value\n",
    "# of 0 causes weights to be targeted, and a value of 1 will target thresholds.\n",
    "print(\"Classifying\", len(cifar_labels), \"images with\", classifier.net + \"-\" + classifier.params)\n",
    "results = classifier.classify_cifars_with_faults(cifar_files, num_faults=0, word_size=True, target_type=-1, target_layers=[0, 1, 2])\n",
    "\n",
    "# Calculate the accuracy of the network\n",
    "accuracy = bnn.util.calculate_accuracy(results, cifar_labels)\n",
    "\n",
    "print(\"Accuracy:\", accuracy)"
   ]
  },
  {
   "cell_type": "markdown",
   "metadata": {},
   "source": [
    "&nbsp;\n",
    "## 4. Using the FaultTest Class"
   ]
  },
  {
   "cell_type": "markdown",
   "metadata": {},
   "source": [
    "This example demonstrates the use of the FaultTest class. This class facilitates simpler automated testing of fault injections. Two examples are provided, the latter of which shows the use of all arguments. See `bnn/faults/faults.py` for a detailed description of the FaultTest class."
   ]
  },
  {
   "cell_type": "raw",
   "metadata": {},
   "source": [
    "from bnn.faults import FaultTest, CNVFaultTest\n",
    "\n",
    "# Create an instance of the CNVFaultTest class that uses the cnvW1A1 network with the CIFAR-10 testset\n",
    "cnv_test = CNVFaultTest.CIFARTest(bnn.NETWORK_CNVW1A1, cifar_files, cifar_labels)\n",
    "\n",
    "# Test the network, accepting the default values for word_size, target_type, and target_layers\n",
    "results, times, accuracies = cnv_test.run_test(num_runs=5, num_flips=10000)\n",
    "print('10000 Bit Flips (10 Tests): Accuracy =', sum(accuracies) / len(accuracies))\n",
    "print('\\n')\n",
    "\n",
    "# Test the network, specifying all parameters\n",
    "results, times, accuracies = cnv_test.run_test(\n",
    "    num_runs = 5,\n",
    "    num_flips = 10000,\n",
    "    word_size = 8,\n",
    "    target_type = FaultTest.TargetType.thresholds(),\n",
    "    target_layers = [0, 1]\n",
    ")\n",
    "print('10000 Threshold Word Flips in Layers [0,1] (10 Tests): Accuracy =', sum(accuracies) / len(accuracies))"
   ]
  },
  {
   "cell_type": "markdown",
   "metadata": {},
   "source": [
    "&nbsp;\n",
    "## 5. Using the NetworkTest Class"
   ]
  },
  {
   "cell_type": "markdown",
   "metadata": {},
   "source": [
    "This example demonstrates the use of the NetworkTest class. This class allows the user to easily execute a comprehensive test of a network. See `bnn/faults/faults.py` for a detailed description of the NetworkTest class."
   ]
  },
  {
   "cell_type": "raw",
   "metadata": {},
   "source": [
    "from bnn.faults import CNVFaultTest, NetworkTest\n",
    "\n",
    "output_folder = \"/home/xilinx/jupyter_notebooks/bnn/faults/\"\n",
    "cnv_test = CNVFaultTest.CIFARTest(bnn.NETWORK_CNVW1A1, cifar_files, cifar_labels)\n",
    "\n",
    "# Use the FaultTest defined above to run all tests, and store results in the output folder defined above\n",
    "net_test = NetworkTest(cnv_test, output_folder)\n",
    "\n",
    "\n",
    "# Run the specified number of tests in the target layers. Separate tests will be\n",
    "# executed using all combinations of the following fault counts and test types.\n",
    "net_test.test_network(\n",
    "    num_runs = 10,\n",
    "    flip_counts = [10, 100, 1000],\n",
    "    test_types = [NetworkTest.TestType.any_word(), NetworkTest.TestType.threshold_bit()],\n",
    "    target_layers = [0, 1]\n",
    ")\n",
    "\n",
    "# Run a comprehensive test. Tests will be run for every test type.\n",
    "net_test.comprehensive_test(\n",
    "    num_runs = 10,\n",
    "    flip_counts = [10, 100, 1000],\n",
    "    target_layers = [0, 1, 2]\n",
    ")"
   ]
  },
  {
   "cell_type": "markdown",
   "metadata": {},
   "source": [
    "&nbsp;\n",
    "\n",
    "## 6. Running Tests on All CNV Networks\n",
    "The dictionary below instantiates tests for all of the available CNV networks. These tests are then conducted for each individual layer multiple times, with an increasing number of faults each time."
   ]
  },
  {
   "cell_type": "code",
   "execution_count": 6,
   "metadata": {},
   "outputs": [],
   "source": [
    "from bnn.faults import *\n",
    "\n",
    "output_folder = \"/home/xilinx/jupyter_notebooks/bnn/faults/\"\n",
    "\n",
    "num_runs = 100\n",
    "flip_counts = [5, 10, 50, 100]\n",
    "\n",
    "cnv_tests = {\n",
    "    # cnvW1A1 Networks\n",
    "    'cnvW1A1': [\n",
    "        NetworkTest(CNVFaultTest.CIFARTest(bnn.NETWORK_CNVW1A1, cifar_files, cifar_labels)),\n",
    "        NetworkTest(CNVFaultTest.SVHNTest(bnn.NETWORK_CNVW1A1, svhn_files, svhn_labels)),\n",
    "        NetworkTest(CNVFaultTest.GTSRBTest(bnn.NETWORK_CNVW1A1, gtsrb_files, gtsrb_labels)),\n",
    "    ],\n",
    "    'cnvW1A1-TMR': [\n",
    "        NetworkTest(CNVFaultTest.CIFARTest(bnn.NETWORK_CNVW1A1_TMR, cifar_files, cifar_labels)),\n",
    "        NetworkTest(CNVFaultTest.SVHNTest(bnn.NETWORK_CNVW1A1_TMR, svhn_files, svhn_labels)),\n",
    "        NetworkTest(CNVFaultTest.GTSRBTest(bnn.NETWORK_CNVW1A1_TMR, gtsrb_files, gtsrb_labels)),\n",
    "    ],\n",
    "    'cnvW1A1-interleaved': [\n",
    "        NetworkTest(CNVFaultTest.CIFARTest(bnn.NETWORK_CNVW1A1_INTERLEAVED, cifar_files, cifar_labels)),\n",
    "        NetworkTest(CNVFaultTest.SVHNTest(bnn.NETWORK_CNVW1A1_INTERLEAVED, svhn_files, svhn_labels)),\n",
    "        NetworkTest(CNVFaultTest.GTSRBTest(bnn.NETWORK_CNVW1A1_INTERLEAVED, gtsrb_files, gtsrb_labels)),\n",
    "    ],\n",
    "\n",
    "    # cnvW1A2 Networks\n",
    "    'cnvW1A2': [\n",
    "        NetworkTest(CNVFaultTest.CIFARTest(bnn.NETWORK_CNVW1A2, cifar_files, cifar_labels))\n",
    "    ],\n",
    "#    'cnvW1A2-TMR': [\n",
    "#        NetworkTest(CNVFaultTest.CIFARTest(bnn.NETWORK_CNVW1A2_TMR, cifar_files, cifar_labels))\n",
    "#    ],\n",
    "    'cnvW1A2-interleaved': [\n",
    "        NetworkTest(CNVFaultTest.CIFARTest(bnn.NETWORK_CNVW1A2_INTERLEAVED, cifar_files, cifar_labels))\n",
    "    ],\n",
    "\n",
    "    # cnvW2A2 Networks\n",
    "    'cnvW2A2': [\n",
    "        NetworkTest(CNVFaultTest.CIFARTest(bnn.NETWORK_CNVW2A2, cifar_files, cifar_labels))\n",
    "    ],\n",
    "    'cnvW2A2-TMR': [\n",
    "        NetworkTest(CNVFaultTest.CIFARTest(bnn.NETWORK_CNVW2A2_TMR, cifar_files, cifar_labels))\n",
    "    ],\n",
    "    'cnvW2A2-interleaved': [\n",
    "        NetworkTest(CNVFaultTest.CIFARTest(bnn.NETWORK_CNVW2A2_INTERLEAVED, cifar_files, cifar_labels))\n",
    "    ],\n",
    "}"
   ]
  },
  {
   "cell_type": "code",
   "execution_count": null,
   "metadata": {},
   "outputs": [],
   "source": [
    "all_types = [\n",
    "    NetworkTest.TestType.weight_bit(),\n",
    "    NetworkTest.TestType.weight_word(),\n",
    "    NetworkTest.TestType.threshold_bit(),\n",
    "    NetworkTest.TestType.threshold_word()\n",
    "]\n",
    "\n",
    "all_tests_flat = [test for lst in cnv_tests.values() for test in lst]\n",
    "\n",
    "for test in all_tests_flat:\n",
    "    test.test_network(output_folder, num_runs, flip_counts, test_types=all_types, target_layers=[0, 1, 2, 3, 4, 5, 6, 7, 8])"
   ]
  },
  {
   "cell_type": "code",
   "execution_count": null,
   "metadata": {},
   "outputs": [],
   "source": []
  }
 ],
 "metadata": {
  "file_extension": ".py",
  "kernelspec": {
   "display_name": "Python 3",
   "language": "python",
   "name": "python3"
  },
  "language_info": {
   "codemirror_mode": {
    "name": "ipython",
    "version": 3
   },
   "file_extension": ".py",
   "mimetype": "text/x-python",
   "name": "python",
   "nbconvert_exporter": "python",
   "pygments_lexer": "ipython3",
   "version": "3.6.5"
  },
  "mimetype": "text/x-python",
  "name": "python",
  "npconvert_exporter": "python",
  "pygments_lexer": "ipython3",
  "version": 3
 },
 "nbformat": 4,
 "nbformat_minor": 2
}
