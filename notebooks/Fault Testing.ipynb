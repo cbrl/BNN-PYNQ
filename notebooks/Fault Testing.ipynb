{
 "cells": [
  {
   "cell_type": "markdown",
   "metadata": {},
   "source": [
    "# Fault Injection on Quantized Neural Networks\n",
    "\n",
    "This notebook tests fault injection on quantized neural networks (QNNs). It is recommended to first read through and understand some of the example notebooks that demonstrate image classification with BNN-PYNQ."
   ]
  },
  {
   "cell_type": "markdown",
   "metadata": {},
   "source": [
    "## 1. Import the packages"
   ]
  },
  {
   "cell_type": "code",
   "execution_count": 1,
   "metadata": {},
   "outputs": [
    {
     "data": {
      "application/javascript": [
       "\n",
       "require(['notebook/js/codecell'], function(codecell) {\n",
       "  codecell.CodeCell.options_default.highlight_modes[\n",
       "      'magic_text/x-csrc'] = {'reg':[/^%%microblaze/]};\n",
       "  Jupyter.notebook.events.one('kernel_ready.Kernel', function(){\n",
       "      Jupyter.notebook.get_cells().map(function(cell){\n",
       "          if (cell.cell_type == 'code'){ cell.auto_highlight(); } }) ;\n",
       "  });\n",
       "});\n"
      ]
     },
     "metadata": {},
     "output_type": "display_data"
    }
   ],
   "source": [
    "import bnn\n",
    "import os"
   ]
  },
  {
   "cell_type": "markdown",
   "metadata": {},
   "source": []
  },
  {
   "cell_type": "markdown",
   "metadata": {},
   "source": [
    "## 2. Load the required datasets\n",
    "\n",
    "This notebook utilizes the CIFAR-10, GTSRB, SVHN, and MNIST datasets. You can download them from each given url via wget and unzip it to a folder on Pynq as shown below."
   ]
  },
  {
   "cell_type": "markdown",
   "metadata": {},
   "source": [
    "#### CIFAR-10"
   ]
  },
  {
   "cell_type": "code",
   "execution_count": 2,
   "metadata": {},
   "outputs": [],
   "source": [
    "if not os.path.exists(\"/home/xilinx/jupyter_notebooks/bnn/cifar-10-binary.tar.gz\"):\n",
    "    !wget https://www.cs.toronto.edu/~kriz/cifar-10-binary.tar.gz\n",
    "\n",
    "if not os.path.exists(\"/home/xilinx/jupyter_notebooks/bnn/cifar-10-batches-bin/\"):\n",
    "    !tar -xf cifar-10-binary.tar.gz\n",
    "\n",
    "cifar_files, cifar_labels = bnn.util.load_cifar10_testset(\"/home/xilinx/jupyter_notebooks/bnn/cifar-10-batches-bin/\", 1000)"
   ]
  },
  {
   "cell_type": "markdown",
   "metadata": {},
   "source": [
    "#### GTSRB"
   ]
  },
  {
   "cell_type": "code",
   "execution_count": 3,
   "metadata": {},
   "outputs": [],
   "source": [
    "if not os.path.exists(\"/home/xilinx/jupyter_notebooks/bnn/GTSRB_Final_Test_Images.zip\"):\n",
    "    !wget https://sid.erda.dk/public/archives/daaeac0d7ce1152aea9b61d9f1e19370/GTSRB_Final_Test_Images.zip\n",
    "\n",
    "if not os.path.exists(\"/home/xilinx/jupyter_notebooks/bnn/GTSRB_Final_Test_GT.zip\"):\n",
    "    !wget https://sid.erda.dk/public/archives/daaeac0d7ce1152aea9b61d9f1e19370/GTSRB_Final_Test_GT.zip\n",
    "\n",
    "if not os.path.exists(\"/home/xilinx/jupyter_notebooks/bnn/GTSRB\"):\n",
    "    !unzip -q -o GTSRB_Final_Test_Images.zip\n",
    "    !unzip -q -o GTSRB_Final_Test_GT.zip\n",
    "    !mv GT-final_test.csv GTSRB/Final_Test/\n",
    "\n",
    "gtsrb_files, gtsrb_labels = bnn.util.load_gtsrb_testset(\n",
    "    \"/home/xilinx/jupyter_notebooks/bnn/GTSRB/Final_Test/GT-final_test.csv\",\n",
    "    \"/home/xilinx/jupyter_notebooks/bnn/GTSRB/Final_Test/Images\",\n",
    "    1000\n",
    ")"
   ]
  },
  {
   "cell_type": "markdown",
   "metadata": {},
   "source": [
    "#### SVHN"
   ]
  },
  {
   "cell_type": "code",
   "execution_count": 4,
   "metadata": {},
   "outputs": [],
   "source": [
    "if not os.path.exists(\"/home/xilinx/jupyter_notebooks/bnn/test_32x32.mat\"):\n",
    "    !wget http://ufldl.stanford.edu/housenumbers/test_32x32.mat\n",
    "\n",
    "svhn_files, svhn_labels = bnn.util.load_svhn_testset(\"/home/xilinx/jupyter_notebooks/bnn/test_32x32.mat\", 1000)"
   ]
  },
  {
   "cell_type": "markdown",
   "metadata": {},
   "source": [
    "#### MNIST"
   ]
  },
  {
   "cell_type": "code",
   "execution_count": 5,
   "metadata": {},
   "outputs": [
    {
     "name": "stdout",
     "output_type": "stream",
     "text": [
      "--2020-03-03 03:31:03--  http://yann.lecun.com/exdb/mnist/t10k-images-idx3-ubyte.gz\n",
      "Resolving yann.lecun.com (yann.lecun.com)... failed: Temporary failure in name resolution.\n",
      "wget: unable to resolve host address ‘yann.lecun.com’\n",
      "--2020-03-03 03:31:03--  http://yann.lecun.com/exdb/mnist/t10k-labels-idx1-ubyte.gz\n",
      "Resolving yann.lecun.com (yann.lecun.com)... failed: Temporary failure in name resolution.\n",
      "wget: unable to resolve host address ‘yann.lecun.com’\n"
     ]
    }
   ],
   "source": [
    "if not os.path.exists(\"/home/xilinx/jupyter_notebooks/bnn/t10k-images-idx3-ubyte.gz\"):\n",
    "    !wget http://yann.lecun.com/exdb/mnist/t10k-images-idx3-ubyte.gz \n",
    "    !wget http://yann.lecun.com/exdb/mnist/t10k-labels-idx1-ubyte.gz \n",
    "        \n",
    "if not os.path.exists(\"/home/xilinx/jupyter_notebooks/bnn/t10k-images-idx3-ubyte\"):\n",
    "    !gzip -d t10k-images-idx3-ubyte.gz\n",
    "    !gzip -d t10k-labels-idx1-ubyte.gz\n",
    "\n",
    "mnist_files, mnist_labels = bnn.util.load_mnist_testset(\"/home/xilinx/jupyter_notebooks/bnn/\")"
   ]
  },
  {
   "cell_type": "markdown",
   "metadata": {},
   "source": [
    "&nbsp;\n",
    "## 3. A Simple Fault Test Example\n",
    "This example demonstrates the most basic method of running a fault test, and demonstrates the use of all of the classification function arguments. The classes beyond this section expand on this concept and allow the user to more easily set up customizeable and comprehensive tests.\n",
    "\n",
    "The test is performed in a way very simlar to how a normal image classification is performed. The main difference is that `classifier.classify_cifars_with_faults()` is called instead of `classifier.classify_cifars()`. This function takes additional arguments that specify the type, location, and number of faults.\n",
    "\n",
    "For the CnvClassifier, non-CIFAR10 datasets (e.g. GTSRB and SVHN) will need to be converted to CIFAR-10 format before being classified. This will be automatically handled by using the `classifier.classify_images()` function instead of `classifier.classify_cifars()`. This function takes a list of Pillow Images and converts them to the required format before classifying. For fault injection with these datasets, use `classifier.classify_images_with_faults()`.\n",
    "\n",
    "The inference can be performed with different precision for weights and activation. Creating a specific Classifier will automatically download the correct bitstream onto PL and load the weights and thresholds trained on the specific dataset."
   ]
  },
  {
   "cell_type": "code",
   "execution_count": 6,
   "metadata": {},
   "outputs": [
    {
     "name": "stdout",
     "output_type": "stream",
     "text": [
      "Availabe params: ['cifar10', 'road-signs', 'streetview']\n",
      "Classifying 1000 images with cnvW1A1-cifar10\n"
     ]
    },
    {
     "name": "stderr",
     "output_type": "stream",
     "text": [
      "/usr/local/lib/python3.6/dist-packages/bnn/bnn.py:179: UserWarning: implicit cast from 'char *' to a different pointer type: will be forbidden in the future (check that the types are as you expect; use an explicit ffi.cast() if they are correct)\n",
      "  path.encode(), len(self.classes), size_ptr, usecperimage, num_faults, 1 if flip_word else 0, target_type, targets, len(target_layers)\n"
     ]
    },
    {
     "name": "stdout",
     "output_type": "stream",
     "text": [
      "Inference took 1582000.00 microseconds, 1582.00 usec per image\n",
      "Classification rate: 632.11 images per second\n",
      "Accuracy: 59.1\n"
     ]
    }
   ],
   "source": [
    "print(\"Availabe params:\", bnn.available_params(bnn.NETWORK_CNVW1A1))\n",
    "\n",
    "# Instantiate the cnvW1A1 hardware classifier with the CIFAR10 dataset\n",
    "classifier = bnn.CnvClassifier(bnn.NETWORK_CNVW1A1, 'cifar10', bnn.RUNTIME_HW)\n",
    "\n",
    "# Classify the dataset, and inject 10000 MBUs, targeting both weights and thresholds in the first 3 layers.\n",
    "#\n",
    "# The default value of target_layers is an empty list, which will target all layers.\n",
    "#\n",
    "# target_type determines if weights or thresholds will be targeted. A value of -1 causes both to be targeted, a value\n",
    "# of 0 causes weights to be targeted, and a value of 1 will target thresholds.\n",
    "print(\"Classifying\", len(cifar_labels), \"images with\", classifier.net + \"-\" + classifier.params)\n",
    "results = classifier.classify_cifars_with_faults(cifar_files, num_faults=10000, flip_word=True, target_type=-1, target_layers=[0, 1, 2])\n",
    "\n",
    "# Calculate the accuracy of the network\n",
    "accuracy = bnn.util.calculate_accuracy(results, cifar_labels)\n",
    "\n",
    "print(\"Accuracy:\", accuracy)"
   ]
  },
  {
   "cell_type": "markdown",
   "metadata": {},
   "source": [
    "&nbsp;\n",
    "## 4. Using the FaultTest Class"
   ]
  },
  {
   "cell_type": "markdown",
   "metadata": {},
   "source": [
    "This example demonstrates the use of the FaultTest class. This class facilitates simpler automated testing of fault injections. Two examples are provided, the latter of which shows the use of all arguments. See `bnn/faults/faults.py` for a detailed description of the FaultTest class."
   ]
  },
  {
   "cell_type": "code",
   "execution_count": null,
   "metadata": {},
   "outputs": [],
   "source": [
    "from bnn.faults import FaultTest, CNVFaultTest\n",
    "\n",
    "# Create an instance of the CNVFaultTest class that uses the cnvW1A1 network with the CIFAR-10 testset\n",
    "cnv_test = CNVFaultTest.CIFARTest(bnn.NETWORK_CNVW1A1, cifar_files, cifar_labels)\n",
    "\n",
    "# Test the network, accepting the default values for flip_word, target_type, and target_layers\n",
    "results, times, accuracies = cnv_test.run_test(num_runs=5, num_flips=10000)\n",
    "print('10000 Bit Flips (10 Tests): Accuracy =', sum(accuracies) / len(accuracies))\n",
    "print('\\n')\n",
    "\n",
    "# Test the network, specifying all parameters\n",
    "results, times, accuracies = cnv_test.run_test(\n",
    "    num_runs = 5,\n",
    "    num_flips = 10000,\n",
    "    flip_word = True,\n",
    "    target_type = FaultTest.TargetType.thresholds(),\n",
    "    target_layers = [0, 1]\n",
    ")\n",
    "print('10000 Threshold Word Flips in Layers [0,1] (10 Tests): Accuracy =', sum(accuracies) / len(accuracies))"
   ]
  },
  {
   "cell_type": "markdown",
   "metadata": {},
   "source": [
    "&nbsp;\n",
    "## 5. Using the NetworkTest Class"
   ]
  },
  {
   "cell_type": "markdown",
   "metadata": {},
   "source": [
    "This example demonstrates the use of the NetworkTest class. This class allows the user to easily execute a comprehensive test of a network. See `bnn/faults/faults.py` for a detailed description of the NetworkTest class."
   ]
  },
  {
   "cell_type": "code",
   "execution_count": null,
   "metadata": {},
   "outputs": [],
   "source": [
    "from bnn.faults import CNVFaultTest, NetworkTest\n",
    "\n",
    "output_folder = \"/home/xilinx/jupyter_notebooks/bnn/faults/\"\n",
    "cnv_test = CNVFaultTest.CIFARTest(bnn.NETWORK_CNVW1A1, cifar_files, cifar_labels)\n",
    "\n",
    "# Use the FaultTest defined above to run all tests, and store results in the output folder defined above\n",
    "net_test = NetworkTest(cnv_test, output_folder)\n",
    "\n",
    "\n",
    "# Run the specified number of tests in the target layers. Separate tests will be\n",
    "# executed using all combinations of the following fault counts and test types.\n",
    "net_test.test_network(\n",
    "    num_runs = 10,\n",
    "    flip_counts = [10, 100, 1000],\n",
    "    test_types = [NetworkTest.TestType.any_word(), NetworkTest.TestType.threshold_bit()],\n",
    "    target_layers = [0, 1]\n",
    ")\n",
    "\n",
    "# Run a comprehensive test. Tests will be run for every test type.\n",
    "net_test.comprehensive_test(\n",
    "    num_runs = 10,\n",
    "    flip_counts = [10, 100, 1000],\n",
    "    target_layers = [0, 1, 2]\n",
    ")"
   ]
  },
  {
   "cell_type": "markdown",
   "metadata": {},
   "source": [
    "&nbsp;\n",
    "\n",
    "## 6. Running Tests on All CNV Networks\n",
    "The dictionary below instantiates tests for all of the available CNV networks. These tests are then conducted for each individual layer multiple times, with an increasing number of faults each time."
   ]
  },
  {
   "cell_type": "code",
   "execution_count": 11,
   "metadata": {},
   "outputs": [],
   "source": [
    "output_folder = \"/home/xilinx/jupyter_notebooks/bnn/faults/\"\n",
    "\n",
    "num_runs = 100\n",
    "flip_counts = [5, 10, 50, 100]\n",
    "\n",
    "cnv_tests = {\n",
    "    # cnvW1A1 Networks\n",
    "    'cnvW1A1': [\n",
    "        NetworkTest(CNVFaultTest.CIFARTest(bnn.NETWORK_CNVW1A1, cifar_files, cifar_labels), output_folder),\n",
    "        NetworkTest(CNVFaultTest.SVHNTest(bnn.NETWORK_CNVW1A1, svhn_files, svhn_labels), output_folder),\n",
    "        NetworkTest(CNVFaultTest.GTSRBTest(bnn.NETWORK_CNVW1A1, gtsrb_files, gtsrb_labels), output_folder),\n",
    "    ],\n",
    "    'cnvW1A1-TMR': [\n",
    "        NetworkTest(CNVFaultTest.CIFARTest(bnn.NETWORK_CNVW1A1_TMR, cifar_files, cifar_labels), output_folder),\n",
    "        NetworkTest(CNVFaultTest.SVHNTest(bnn.NETWORK_CNVW1A1_TMR, svhn_files, svhn_labels), output_folder),\n",
    "        NetworkTest(CNVFaultTest.GTSRBTest(bnn.NETWORK_CNVW1A1_TMR, gtsrb_files, gtsrb_labels), output_folder),\n",
    "    ],\n",
    "    'cnvW1A1-interleaved': [\n",
    "        NetworkTest(CNVFaultTest.CIFARTest(bnn.NETWORK_CNVW1A1_INTERLEAVED, cifar_files, cifar_labels), output_folder),\n",
    "        NetworkTest(CNVFaultTest.SVHNTest(bnn.NETWORK_CNVW1A1_INTERLEAVED, svhn_files, svhn_labels), output_folder),\n",
    "        NetworkTest(CNVFaultTest.GTSRBTest(bnn.NETWORK_CNVW1A1_INTERLEAVED, gtsrb_files, gtsrb_labels), output_folder),\n",
    "    ],\n",
    "\n",
    "    # cnvW1A2 Networks\n",
    "    'cnvW1A2': [\n",
    "        NetworkTest(CNVFaultTest.CIFARTest(bnn.NETWORK_CNVW1A2, cifar_files, cifar_labels), output_folder)\n",
    "    ],\n",
    "#    'cnvW1A2-TMR': [\n",
    "#        NetworkTest(CNVFaultTest.CIFARTest(bnn.NETWORK_CNVW1A2_TMR, cifar_files, cifar_labels), output_folder)\n",
    "#    ],\n",
    "    'cnvW1A2-interleaved': [\n",
    "        NetworkTest(CNVFaultTest.CIFARTest(bnn.NETWORK_CNVW1A2_INTERLEAVED, cifar_files, cifar_labels), output_folder)\n",
    "    ],\n",
    "\n",
    "    # cnvW2A2 Networks\n",
    "    'cnvW2A2': [\n",
    "        NetworkTest(CNVFaultTest.CIFARTest(bnn.NETWORK_CNVW2A2, cifar_files, cifar_labels), output_folder)\n",
    "    ],\n",
    "    'cnvW2A2-TMR': [\n",
    "        NetworkTest(CNVFaultTest.CIFARTest(bnn.NETWORK_CNVW2A2_TMR, cifar_files, cifar_labels), output_folder)\n",
    "    ],\n",
    "    'cnvW2A2-interleaved': [\n",
    "        NetworkTest(CNVFaultTest.CIFARTest(bnn.NETWORK_CNVW2A2_INTERLEAVED, cifar_files, cifar_labels), output_folder)\n",
    "    ],\n",
    "}"
   ]
  },
  {
   "cell_type": "code",
   "execution_count": null,
   "metadata": {},
   "outputs": [],
   "source": [
    "weight_and_thresh = [TestType.weight_bit(), TestType.weight_word(), TestType.threshold_bit(), TestType.threshold_word()]\n",
    "only_weights = [TestType.weight_bit(), TestType.weight_word()]\n",
    "\n",
    "all_tests_flat = [test for lst in cnv_tests.values() for test in lst]\n",
    "\n",
    "\n",
    "# CNV Network uses passthrough activations for the final layer (layer 8), so that one will be handled differently.\n",
    "for test in all_tests_flat:\n",
    "    test.test_network(num_runs, flip_counts, test_types=weight_and_thresh, target_layers=[0, 1, 2, 3, 4, 5, 6, 7])\n",
    "\n",
    "for test in all_tests_flat:\n",
    "    test.test_network(num_runs, flip_counts, test_types=only_weights, target_layers=[8])"
   ]
  }
 ],
 "metadata": {
  "file_extension": ".py",
  "kernelspec": {
   "display_name": "Python 3",
   "language": "python",
   "name": "python3"
  },
  "language_info": {
   "codemirror_mode": {
    "name": "ipython",
    "version": 3
   },
   "file_extension": ".py",
   "mimetype": "text/x-python",
   "name": "python",
   "nbconvert_exporter": "python",
   "pygments_lexer": "ipython3",
   "version": "3.6.5"
  },
  "mimetype": "text/x-python",
  "name": "python",
  "npconvert_exporter": "python",
  "pygments_lexer": "ipython3",
  "version": 3
 },
 "nbformat": 4,
 "nbformat_minor": 2
}
